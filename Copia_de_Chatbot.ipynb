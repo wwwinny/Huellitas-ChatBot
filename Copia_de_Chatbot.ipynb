{
  "nbformat": 4,
  "nbformat_minor": 0,
  "metadata": {
    "colab": {
      "name": "Copia de Chatbot.ipynb",
      "provenance": [],
      "collapsed_sections": []
    },
    "kernelspec": {
      "name": "python3",
      "display_name": "Python 3"
    },
    "language_info": {
      "name": "python"
    }
  },
  "cells": [
    {
      "cell_type": "code",
      "metadata": {
        "id": "gDmgGSlknXCS"
      },
      "source": [
        "Estudiante : Winny Lesly Quispe Gutierrez\n",
        "Chatbot Huellitas (tienda de productos para mascotas)\n",
        "link archivo json https://github.com/wwwinny/Huellitas-ChatBot.git"
      ],
      "execution_count": null,
      "outputs": []
    },
    {
      "cell_type": "code",
      "metadata": {
        "colab": {
          "base_uri": "https://localhost:8080/"
        },
        "id": "4ahQD0gnHaCg",
        "outputId": "26b5d0c1-5f3c-4ed2-8de0-b377781d3f91"
      },
      "source": [
        "import nltk\n",
        "nltk.download('punkt')"
      ],
      "execution_count": null,
      "outputs": [
        {
          "output_type": "stream",
          "text": [
            "[nltk_data] Downloading package punkt to /root/nltk_data...\n",
            "[nltk_data]   Package punkt is already up-to-date!\n"
          ],
          "name": "stdout"
        },
        {
          "output_type": "execute_result",
          "data": {
            "text/plain": [
              "True"
            ]
          },
          "metadata": {
            "tags": []
          },
          "execution_count": 51
        }
      ]
    },
    {
      "cell_type": "code",
      "metadata": {
        "colab": {
          "base_uri": "https://localhost:8080/"
        },
        "id": "eivdWlFjJAfp",
        "outputId": "0983ca58-fcdc-4ae4-c84e-a314484d9118"
      },
      "source": [
        "!pip install tflearn\n"
      ],
      "execution_count": null,
      "outputs": [
        {
          "output_type": "stream",
          "text": [
            "Requirement already satisfied: tflearn in /usr/local/lib/python3.7/dist-packages (0.5.0)\n",
            "Requirement already satisfied: numpy in /usr/local/lib/python3.7/dist-packages (from tflearn) (1.19.5)\n",
            "Requirement already satisfied: six in /usr/local/lib/python3.7/dist-packages (from tflearn) (1.15.0)\n",
            "Requirement already satisfied: Pillow in /usr/local/lib/python3.7/dist-packages (from tflearn) (7.1.2)\n"
          ],
          "name": "stdout"
        }
      ]
    },
    {
      "cell_type": "code",
      "metadata": {
        "colab": {
          "resources": {
            "http://localhost:8080/nbextensions/google.colab/files.js": {
              "data": "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",
              "ok": true,
              "headers": [
                [
                  "content-type",
                  "application/javascript"
                ]
              ],
              "status": 200,
              "status_text": ""
            }
          },
          "base_uri": "https://localhost:8080/",
          "height": 109
        },
        "id": "BTpxrGRUJduZ",
        "outputId": "80f54080-8d26-4ef1-84db-4aa8b81d0915"
      },
      "source": [
        "import nltk\n",
        "from nltk.stem.lancaster import LancasterStemmer\n",
        "stemmer=LancasterStemmer()\n",
        "\n",
        "#Libararies needed for TensorFlow processing\n",
        "import tensorflow as tf\n",
        "import numpy as np\n",
        "import tflearn\n",
        "import random\n",
        "import json\n",
        "#cargamos los datos json\n",
        "from google.colab import files\n",
        "files.upload()\n"
      ],
      "execution_count": null,
      "outputs": [
        {
          "output_type": "display_data",
          "data": {
            "text/html": [
              "\n",
              "     <input type=\"file\" id=\"files-097db8fb-4622-4203-81a3-a00c2fa7dcfe\" name=\"files[]\" multiple disabled\n",
              "        style=\"border:none\" />\n",
              "     <output id=\"result-097db8fb-4622-4203-81a3-a00c2fa7dcfe\">\n",
              "      Upload widget is only available when the cell has been executed in the\n",
              "      current browser session. Please rerun this cell to enable.\n",
              "      </output>\n",
              "      <script src=\"/nbextensions/google.colab/files.js\"></script> "
            ],
            "text/plain": [
              "<IPython.core.display.HTML object>"
            ]
          },
          "metadata": {
            "tags": []
          }
        },
        {
          "output_type": "stream",
          "text": [
            "Saving intentos.json to intentos (1).json\n"
          ],
          "name": "stdout"
        },
        {
          "output_type": "execute_result",
          "data": {
            "text/plain": [
              "{'intentos.json': b'{\\r\\n    \"intents\": [{\\r\\n            \"tag\": \"saludo\",\\r\\n            \"patterns\": [\"Hola\", \"\\xc2\\xbfC\\xc3\\xb3mo est\\xc3\\xa1s\", \"\\xc2\\xbfHay alguien ah\\xc3\\xad?\", \"Buen d\\xc3\\xada\", \"Buenas tardes\", \"Buenos d\\xc3\\xadas\", \"Buenas noches\"],\\r\\n            \"responses\": [\"Hola, gracias por visitar nuestra tienda de productos para mascotas Huellitas\", \"Es bueno verte , bienvenido a tienda de productos para mascotas Huellitas\", \"Hola, \\xc2\\xbfen qu\\xc3\\xa9 puedo ayudar?\", \"Hola, \\xc2\\xbf Que desea hacer?\"],\\r\\n            \"context_set\": \"\"\\r\\n        },\\r\\n        {\\r\\n            \"tag\": \"adios\",\\r\\n            \"patterns\": [\"Adios\", \"Chau\", \"Hasta luego\", \"Hasta otra \", \"Hasta la vista\"],\\r\\n            \"responses\": [\"Nos vemos, gracias por visitar nuestra tienda Huellitas\", \"Ten un buen dia\", \"Adios, vuelva pronto\", \"La Tienda Huellitas le agradece su visita \", \"Adios, espero verlo denuevo\"],\\r\\n            \"context_set\": \"\"\\r\\n        },\\r\\n        {\\r\\n            \"tag\": \"gracias\",\\r\\n            \"patterns\": [\"Gracias\", \"Eso me ayudo\", \"Gracias por la ayuda\", \"Gracias por la consulta\"],\\r\\n            \"responses\": [\"Feliz de poder ser de ayuda\", \"Es un placer\", \"De nada\", \"No hay de que\", \"Gracias a ti por consultarnos\"],\\r\\n            \"context_set\": \"\"\\r\\n        },\\r\\n        {\\r\\n            \"tag\": \"horario\",\\r\\n            \"patterns\": [\"\\xc2\\xbfA qu\\xc3\\xa9 horas est\\xc3\\xa1 abierto?\", \"\\xc2\\xbfCu\\xc3\\xa1les son sus horas?\", \"\\xc2\\xbfCu\\xc3\\xa1ndo abren?\", \"\\xc2\\xbfCual es el horario de atencion?\", \"\\xc2\\xbfQue dias abren?\", \"\\xc2\\xbfA que hora esta atendiendo?\"],\\r\\n            \"responses\": [\"Nuestra atencion es de 8am a 6pm todos los dias \", \"Podemos atenderle desde las 8am a 6pm todos los dias\", \"Huellitas esta abierto de todos los dias de 8am-6pm\"],\\r\\n            \"context_set\": \"\"\\r\\n        },\\r\\n        {\\r\\n            \"tag\": \"pagos\",\\r\\n            \"patterns\": [\"\\xc2\\xbfAcepta tarjetas de cr\\xc3\\xa9dito?\", \"\\xc2\\xbfPuedo pagar con Yape?\", \"\\xc2\\xbfComo puedo pagar?\", \"\\xc2\\xbfAceptan Mastercard?\", \"\\xc2\\xbfEs solo efectivo?\"],\\r\\n            \"responses\": [\"Nosotros aceptamos tarjetas VISA, Mastercard , Yape y efectivo\", \"Usted puede pagar contarjetas VISA, Mastercard , Yape y efectivo \"],\\r\\n            \"context_set\": \"\"\\r\\n        },\\r\\n        {\\r\\n            \"tag\": \"abierto\",\\r\\n            \"patterns\": [\"\\xc2\\xbfEst\\xc3\\xa1 abierto hoy?\", \"\\xc2\\xbfA que hora habren hoy?\", \"\\xc2\\xbfHabra atencion ma\\xc3\\xb1ana?\"],\\r\\n            \"responses\": [\"Si, Huellitas habre todos los dias con excepcion de feriados de 8am a 6pm\"],\\r\\n            \"context_set\": \"\"\\r\\n        },\\r\\n        {\\r\\n            \"tag\": \"productos\",\\r\\n            \"patterns\": [\"\\xc2\\xbfQue productos vende?\", \"\\xc2\\xbfQue productos hay en la tienda?\", \"\\xc2\\xbfQue productos tiene a la venta?\"],\\r\\n            \"responses\": [\"Huellitas vende : Comida de perro , gato , hamsters y canarios ; tambien tenemos ropa para mascotas , productos de higiene para mascotas, juguetes, camas y demas accesorios \"],\\r\\n            \"context_set\": \"\"\\r\\n        },\\r\\n        {\\r\\n            \"tag\": \"cortes\",\\r\\n            \"patterns\": [\"\\xc2\\xbfRealiza cortes de pelo para perros?\", \"\\xc2\\xbfCu\\xc3\\xa1nto cuesta un corte de pelo a un perro?\"],\\r\\n            \"responses\": [\"Nuestra tienda no realizar cortes de pelo a mascotas \"],\\r\\n            \"context_set\": \"\"\\r\\n        },\\r\\n        {\\r\\n            \"tag\": \"vacunas\",\\r\\n            \"patterns\": [\"\\xc2\\xbfRealiza vacunas a perros o gatos?\", \"\\xc2\\xbfRealiza vacunaciones?\"],\\r\\n            \"responses\": [\"Nuestra tienda no realiza trabajos de veterinaria\", \"No realizamos vacunaciones y ninun tipo de cirugia a animales\"],\\r\\n            \"context_set\": \"\"\\r\\n        }\\r\\n    ]\\r\\n}'}"
            ]
          },
          "metadata": {
            "tags": []
          },
          "execution_count": 54
        }
      ]
    },
    {
      "cell_type": "code",
      "metadata": {
        "id": "nw5ffqwIJqOt"
      },
      "source": [
        "with open('intentos.json') as json_data:\n",
        "    intents = json.load(json_data)"
      ],
      "execution_count": null,
      "outputs": []
    },
    {
      "cell_type": "code",
      "metadata": {
        "colab": {
          "base_uri": "https://localhost:8080/"
        },
        "id": "754blDKKc2Wj",
        "outputId": "21d0e623-e579-4f66-b9a8-c61c1cc8a389"
      },
      "source": [
        "intents"
      ],
      "execution_count": null,
      "outputs": [
        {
          "output_type": "execute_result",
          "data": {
            "text/plain": [
              "{'intents': [{'context_set': '',\n",
              "   'patterns': ['Hola',\n",
              "    '¿Cómo estás',\n",
              "    '¿Hay alguien ahí?',\n",
              "    'Buen día',\n",
              "    'Buenas tardes',\n",
              "    'Buenos días',\n",
              "    'Buenas noches'],\n",
              "   'responses': ['Hola, gracias por visitar nuestra tienda de productos para mascotas Huellitas',\n",
              "    'Es bueno verte , bienvenido a tienda de productos para mascotas Huellitas',\n",
              "    'Hola, ¿en qué puedo ayudar?',\n",
              "    'Hola, ¿ Que desea hacer?'],\n",
              "   'tag': 'saludo'},\n",
              "  {'context_set': '',\n",
              "   'patterns': ['Adios',\n",
              "    'Chau',\n",
              "    'Hasta luego',\n",
              "    'Hasta otra ',\n",
              "    'Hasta la vista'],\n",
              "   'responses': ['Nos vemos, gracias por visitar nuestra tienda Huellitas',\n",
              "    'Ten un buen dia',\n",
              "    'Adios, vuelva pronto',\n",
              "    'La Tienda Huellitas le agradece su visita ',\n",
              "    'Adios, espero verlo denuevo'],\n",
              "   'tag': 'adios'},\n",
              "  {'context_set': '',\n",
              "   'patterns': ['Gracias',\n",
              "    'Eso me ayudo',\n",
              "    'Gracias por la ayuda',\n",
              "    'Gracias por la consulta'],\n",
              "   'responses': ['Feliz de poder ser de ayuda',\n",
              "    'Es un placer',\n",
              "    'De nada',\n",
              "    'No hay de que',\n",
              "    'Gracias a ti por consultarnos'],\n",
              "   'tag': 'gracias'},\n",
              "  {'context_set': '',\n",
              "   'patterns': ['¿A qué horas está abierto?',\n",
              "    '¿Cuáles son sus horas?',\n",
              "    '¿Cuándo abren?',\n",
              "    '¿Cual es el horario de atencion?',\n",
              "    '¿Que dias abren?',\n",
              "    '¿A que hora esta atendiendo?'],\n",
              "   'responses': ['Nuestra atencion es de 8am a 6pm todos los dias ',\n",
              "    'Podemos atenderle desde las 8am a 6pm todos los dias',\n",
              "    'Huellitas esta abierto de todos los dias de 8am-6pm'],\n",
              "   'tag': 'horario'},\n",
              "  {'context_set': '',\n",
              "   'patterns': ['¿Acepta tarjetas de crédito?',\n",
              "    '¿Puedo pagar con Yape?',\n",
              "    '¿Como puedo pagar?',\n",
              "    '¿Aceptan Mastercard?',\n",
              "    '¿Es solo efectivo?'],\n",
              "   'responses': ['Nosotros aceptamos tarjetas VISA, Mastercard , Yape y efectivo',\n",
              "    'Usted puede pagar contarjetas VISA, Mastercard , Yape y efectivo '],\n",
              "   'tag': 'pagos'},\n",
              "  {'context_set': '',\n",
              "   'patterns': ['¿Está abierto hoy?',\n",
              "    '¿A que hora habren hoy?',\n",
              "    '¿Habra atencion mañana?'],\n",
              "   'responses': ['Si, Huellitas habre todos los dias con excepcion de feriados de 8am a 6pm'],\n",
              "   'tag': 'abierto'},\n",
              "  {'context_set': '',\n",
              "   'patterns': ['¿Que productos vende?',\n",
              "    '¿Que productos hay en la tienda?',\n",
              "    '¿Que productos tiene a la venta?'],\n",
              "   'responses': ['Huellitas vende : Comida de perro , gato , hamsters y canarios ; tambien tenemos ropa para mascotas , productos de higiene para mascotas, juguetes, camas y demas accesorios '],\n",
              "   'tag': 'productos'},\n",
              "  {'context_set': '',\n",
              "   'patterns': ['¿Realiza cortes de pelo para perros?',\n",
              "    '¿Cuánto cuesta un corte de pelo a un perro?'],\n",
              "   'responses': ['Nuestra tienda no realizar cortes de pelo a mascotas '],\n",
              "   'tag': 'cortes'},\n",
              "  {'context_set': '',\n",
              "   'patterns': ['¿Realiza vacunas a perros o gatos?',\n",
              "    '¿Realiza vacunaciones?'],\n",
              "   'responses': ['Nuestra tienda no realiza trabajos de veterinaria',\n",
              "    'No realizamos vacunaciones y ninun tipo de cirugia a animales'],\n",
              "   'tag': 'vacunas'}]}"
            ]
          },
          "metadata": {
            "tags": []
          },
          "execution_count": 56
        }
      ]
    },
    {
      "cell_type": "code",
      "metadata": {
        "id": "E3Yu6uyBd4dX"
      },
      "source": [
        "palabras = []\n",
        "etiquetas = []\n",
        "documentos = []\n",
        "ignore = ['?']\n",
        "\n",
        "#recorre cada oracion \n",
        "for intent in intents['intents']:\n",
        "    for pattern in intent['patterns']:\n",
        "        w=nltk.word_tokenize(pattern)\n",
        "        palabras.extend(w)\n",
        "        documentos.append((w, intent['tag']))\n",
        "        if intent['tag'] not in etiquetas:\n",
        "            etiquetas.append(intent['tag'])"
      ],
      "execution_count": null,
      "outputs": []
    },
    {
      "cell_type": "code",
      "metadata": {
        "colab": {
          "base_uri": "https://localhost:8080/"
        },
        "id": "yBK77ZkUfMOE",
        "outputId": "3d219122-2d36-4ba1-c309-94a2b793445f"
      },
      "source": [
        "#elimina dupplicados y reduce palabras\n",
        "palabras=[stemmer.stem(w.lower()) for w in palabras if w not in ignore]\n",
        "palabras=sorted(list(set(palabras)))\n",
        "\n",
        "#remove duplicate classes\n",
        "etiquetas=sorted(list(set(etiquetas)))\n",
        "\n",
        "print (len(documentos), \"documentos\")\n",
        "print (len(etiquetas), \"etiquetas\", etiquetas)\n",
        "print (len(palabras), \"palabras derivadas únicas\", palabras)"
      ],
      "execution_count": null,
      "outputs": [
        {
          "output_type": "stream",
          "text": [
            "37 documentos\n",
            "9 etiquetas ['abierto', 'adios', 'cortes', 'gracias', 'horario', 'pagos', 'productos', 'saludo', 'vacunas']\n",
            "86 palabras derivadas únicas ['a', 'abierto', 'abr', 'adio', 'ahí', 'alguy', 'at', 'atendiendo', 'ayud', 'ayudo', 'buen', 'buena', 'bueno', 'chau', 'con', 'consult', 'cort', 'crédito', 'cuest', 'de', 'dia', 'día', 'efectivo', 'el', 'en', 'es', 'eso', 'est', 'está', 'gato', 'gracia', 'habr', 'hast', 'hay', 'hol', 'hor', 'hora', 'horario', 'hoy', 'la', 'luego', 'mastercard', 'mañan', 'me', 'noch', 'o', 'otr', 'pag', 'par', 'pelo', 'perro', 'por', 'producto', 'puedo', 'que', 'qué', 'solo', 'son', 'sus', 'tard', 'tarjeta', 'tien', 'tiend', 'un', 'vacuna', 'vacunac', 'vend', 'vent', 'vist', 'yap', '¿a', '¿acepta', '¿aceptan', '¿como', '¿cual', '¿cuáles', '¿cuándo', '¿cuánto', '¿cómo', '¿es', '¿está', '¿habra', '¿hay', '¿puedo', '¿que', '¿realiza']\n"
          ],
          "name": "stdout"
        }
      ]
    },
    {
      "cell_type": "code",
      "metadata": {
        "colab": {
          "base_uri": "https://localhost:8080/"
        },
        "id": "zeZsyHzef0_L",
        "outputId": "7596eec0-d25b-4c2a-908c-9ee4cf4a23bc"
      },
      "source": [
        "# entrenamiento\n",
        "entrenamiento=[]\n",
        "salidas=[]\n",
        "#crea una matriz vacía para la salida\n",
        "output_empty=[0]*len(etiquetas)\n",
        "\n",
        "for doc in documents:\n",
        "  bag=[]\n",
        "  pattern_words=doc[0]\n",
        "  pattern_words=[stemmer.stem(word.lower()) for word in pattern_words]\n",
        "  for w in palabras:\n",
        "    bag.append(1) if w in pattern_words else bag.append(0)\n",
        "  \n",
        "  output_row=list(output_empty)\n",
        "  output_row[etiquetas.index(doc[1])]=1\n",
        "  entrenamiento.append([bag,output_row])\n",
        "random.shuffle(entrenamiento)\n",
        "entrenamiento=np.array(entrenamiento)\n",
        "  #entrenamiento de listas\n",
        "train_x =list(entrenamiento[:,0])\n",
        "train_y =list(entrenamiento[:,1])"
      ],
      "execution_count": null,
      "outputs": [
        {
          "output_type": "stream",
          "text": [
            "/usr/local/lib/python3.7/dist-packages/ipykernel_launcher.py:18: VisibleDeprecationWarning: Creating an ndarray from ragged nested sequences (which is a list-or-tuple of lists-or-tuples-or ndarrays with different lengths or shapes) is deprecated. If you meant to do this, you must specify 'dtype=object' when creating the ndarray\n"
          ],
          "name": "stderr"
        }
      ]
    },
    {
      "cell_type": "code",
      "metadata": {
        "colab": {
          "base_uri": "https://localhost:8080/"
        },
        "id": "St3FD6Yggk8j",
        "outputId": "755cdfb9-d782-44cf-b1a1-e18a9363be3b"
      },
      "source": [
        "from tensorflow.python.framework import ops\n",
        "ops.reset_default_graph()\n",
        "\n",
        "net=tflearn.input_data(shape=[None, len(train_x[0])])\n",
        "net=tflearn.fully_connected(net,10)\n",
        "net=tflearn.fully_connected(net,10)\n",
        "net=tflearn.fully_connected(net,len(train_y[0]), activation='softmax')\n",
        "net=tflearn.regression(net)\n",
        "\n",
        "model=tflearn.DNN(net, tensorboard_dir='tflearn_logs')\n",
        "\n",
        "#iniciando entrenamiento\n",
        "model.fit(train_x, train_y, n_epoch=1000, batch_size=8, show_metric=True)\n",
        "model.save('model.tflearn')"
      ],
      "execution_count": null,
      "outputs": [
        {
          "output_type": "stream",
          "text": [
            "Training Step: 4999  | total loss: \u001b[1m\u001b[32m0.67901\u001b[0m\u001b[0m | time: 0.012s\n",
            "| Adam | epoch: 1000 | loss: 0.67901 - acc: 0.9671 -- iter: 32/37\n",
            "Training Step: 5000  | total loss: \u001b[1m\u001b[32m0.55222\u001b[0m\u001b[0m | time: 0.015s\n",
            "| Adam | epoch: 1000 | loss: 0.55222 - acc: 0.9671 -- iter: 37/37\n",
            "--\n",
            "INFO:tensorflow:/content/model.tflearn is not in all_model_checkpoint_paths. Manually adding it.\n"
          ],
          "name": "stdout"
        }
      ]
    },
    {
      "cell_type": "code",
      "metadata": {
        "id": "BJpQyux8iVct"
      },
      "source": [
        "import pickle\n",
        "pickle.dump({'palabras':palabras, 'etiquetas':etiquetas, 'train_x':train_x, 'train_y':train_y}, open(\"training_data\",\"wb\"))"
      ],
      "execution_count": null,
      "outputs": []
    },
    {
      "cell_type": "code",
      "metadata": {
        "id": "5llWO5Esifpi"
      },
      "source": [
        "# restaurando todas las estructuras de datos\n",
        "data = pickle.load(open(\"training_data\",\"rb\"))\n",
        "\n",
        "palabras=data['palabras']\n",
        "etiquetas =data['etiquetas']\n",
        "train_x =data['train_x']\n",
        "train_y =data['train_y']"
      ],
      "execution_count": null,
      "outputs": []
    },
    {
      "cell_type": "code",
      "metadata": {
        "id": "FFTkyHwris-0"
      },
      "source": [
        "with open('intentos.json') as json_data:\n",
        "    intentos = json.load(json_data)"
      ],
      "execution_count": null,
      "outputs": []
    },
    {
      "cell_type": "code",
      "metadata": {
        "colab": {
          "base_uri": "https://localhost:8080/"
        },
        "id": "591kkaBzi2xu",
        "outputId": "9c318af7-26ac-4fa9-9c3c-a880093b22c7"
      },
      "source": [
        "#cargar el modelo guardado\n",
        "model.load('./model.tflearn')"
      ],
      "execution_count": null,
      "outputs": [
        {
          "output_type": "stream",
          "text": [
            "INFO:tensorflow:Restoring parameters from /content/model.tflearn\n"
          ],
          "name": "stdout"
        }
      ]
    },
    {
      "cell_type": "code",
      "metadata": {
        "id": "eeOZofNyjRdf"
      },
      "source": [
        "def clean_up_sentence(sentence):\n",
        "  #tokenizando el toen\n",
        "  sentence_words=nltk.word_tokenize(sentence)\n",
        "  #derivando cada palabra\n",
        "  sentence_words=[stemmer.stem(word.lower()) for word in sentence_words]\n",
        "  return sentence_words\n",
        "\n",
        "def bow(sentence, words, show_details=False):\n",
        "  #tokenizando la oracion\n",
        "  sentence_words=clean_up_sentence(sentence)\n",
        "  #genernado grupos de palabras\n",
        "  bag=[0] * len(words)\n",
        "  for s in sentence_words:\n",
        "    for i,w in enumerate(words):\n",
        "      if w ==s:\n",
        "        bag[i] = 1\n",
        "        \n",
        "        if show_details:\n",
        "          print(\"encontrar grupo: %s\" % w)\n",
        "  return (np.array(bag))"
      ],
      "execution_count": null,
      "outputs": []
    },
    {
      "cell_type": "code",
      "metadata": {
        "id": "tlPvDI20judo"
      },
      "source": [
        "ERROR_THRESHOLD = 0.0\n",
        "def classify(sentence):\n",
        "  results = model.predict([bow(sentence, palabras)])[0]\n",
        "  \n",
        "  results = [[i,r] for i, r in enumerate(results) if r> ERROR_THRESHOLD]\n",
        "  \n",
        "  results.sort(key=lambda x: x[1], reverse=True)\n",
        "  return_list=[]\n",
        "  \n",
        "  for r in results:\n",
        "    return_list.append((etiquetas[r[0]], r[1]))\n",
        "  \n",
        "  return return_list\n",
        "\n",
        "def responder(sentence, userID='123', show_details=False):\n",
        "  results=classify(sentence)\n",
        "  \n",
        "  if results:\n",
        "    while results:\n",
        "      for i in intents['intents']:\n",
        "        if i['tag'] == results[0][0]:\n",
        "          return print(random.choice(i['responses']))\n",
        "      results.pop(0)\n",
        "  "
      ],
      "execution_count": null,
      "outputs": []
    },
    {
      "cell_type": "code",
      "metadata": {
        "colab": {
          "base_uri": "https://localhost:8080/"
        },
        "id": "1yFT9B5Pj-g0",
        "outputId": "4a68e0f3-f078-4643-8959-6f8b2ee2fcc7"
      },
      "source": [
        "classify('¿A qué horas está abierto?')"
      ],
      "execution_count": null,
      "outputs": [
        {
          "output_type": "execute_result",
          "data": {
            "text/plain": [
              "[('horario', 0.9995184),\n",
              " ('saludo', 0.0003369365),\n",
              " ('pagos', 0.00014471405),\n",
              " ('abierto', 1.4988301e-15),\n",
              " ('gracias', 8.45524e-17),\n",
              " ('cortes', 1.1008208e-24),\n",
              " ('adios', 2.0109829e-28),\n",
              " ('vacunas', 5.0517496e-30),\n",
              " ('productos', 6.5769644e-32)]"
            ]
          },
          "metadata": {
            "tags": []
          },
          "execution_count": 89
        }
      ]
    },
    {
      "cell_type": "code",
      "metadata": {
        "colab": {
          "base_uri": "https://localhost:8080/"
        },
        "id": "eaPlP6ghlG0Z",
        "outputId": "fc677d8a-dada-439e-bbd8-daca6b3590cb"
      },
      "source": [
        "responder('hola')"
      ],
      "execution_count": null,
      "outputs": [
        {
          "output_type": "stream",
          "text": [
            "Hola, gracias por visitar nuestra tienda de productos para mascotas Huellitas\n"
          ],
          "name": "stdout"
        }
      ]
    },
    {
      "cell_type": "code",
      "metadata": {
        "colab": {
          "base_uri": "https://localhost:8080/"
        },
        "id": "A0f4CHyVlOuD",
        "outputId": "425dfc92-7ee5-4d9c-de95-e8e03aa0f532"
      },
      "source": [
        "responder('\"¿Que productos vende?\"')"
      ],
      "execution_count": null,
      "outputs": [
        {
          "output_type": "stream",
          "text": [
            "Huellitas vende : Comida de perro , gato , hamsters y canarios ; tambien tenemos ropa para mascotas , productos de higiene para mascotas, juguetes, camas y demas accesorios \n"
          ],
          "name": "stdout"
        }
      ]
    },
    {
      "cell_type": "code",
      "metadata": {
        "colab": {
          "base_uri": "https://localhost:8080/"
        },
        "id": "_d0vCM2zlm-A",
        "outputId": "ee7c7563-c145-4bc4-86c0-bda4057613d2"
      },
      "source": [
        "responder('¿Habra atencion mañana?')"
      ],
      "execution_count": null,
      "outputs": [
        {
          "output_type": "stream",
          "text": [
            "Si, Huellitas habre todos los dias con excepcion de feriados de 8am a 6pm\n"
          ],
          "name": "stdout"
        }
      ]
    },
    {
      "cell_type": "code",
      "metadata": {
        "colab": {
          "base_uri": "https://localhost:8080/"
        },
        "id": "wEKomFvmluMt",
        "outputId": "aebfc1bd-3b52-48e9-8a09-9a70c1a07f8b"
      },
      "source": [
        "responder('gracias')"
      ],
      "execution_count": null,
      "outputs": [
        {
          "output_type": "stream",
          "text": [
            "De nada\n"
          ],
          "name": "stdout"
        }
      ]
    },
    {
      "cell_type": "code",
      "metadata": {
        "colab": {
          "base_uri": "https://localhost:8080/"
        },
        "id": "DQx1D0CXlzU0",
        "outputId": "cc5dea7c-7511-4dd7-b2db-81a5f612a167"
      },
      "source": [
        "responder('hasta otra')"
      ],
      "execution_count": null,
      "outputs": [
        {
          "output_type": "stream",
          "text": [
            "Adios, vuelva pronto\n"
          ],
          "name": "stdout"
        }
      ]
    },
    {
      "cell_type": "code",
      "metadata": {
        "id": "tBnDoV3Kl_DQ"
      },
      "source": [
        ""
      ],
      "execution_count": null,
      "outputs": []
    }
  ]
}